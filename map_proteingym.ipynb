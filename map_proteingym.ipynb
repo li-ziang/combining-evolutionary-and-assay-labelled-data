{
 "cells": [
  {
   "cell_type": "code",
   "execution_count": 4,
   "metadata": {},
   "outputs": [
    {
     "name": "stdout",
     "output_type": "stream",
     "text": [
      "P311A\n"
     ]
    }
   ],
   "source": [
    "import pandas as pd\n",
    "label_proteingym_map = {\n",
    "    'BG_STRSQ_Abate2015-enrichment':'Q59976_STRSQ_Romero_2015',\n",
    "    'BLAT_ECOLX_Ranganathan2015-2500': 'BLAT_ECOLX_Stiffler_2015',\n",
    "    'BLAT_ECOLX_Ostermeier2014-linear':'BLAT_ECOLX_Firnberg_2014',\n",
    "    'BLAT_ECOLX_Palzkill2012-ddG_stat':'BLAT_ECOLX_Deng_2012',\n",
    "    'BLAT_ECOLX_Tenaillon2013-singles-MIC_score':'BLAT_ECOLX_Jacquier_2013',\n",
    "    'DLG4_RAT_Ranganathan2012-CRIPT':'DLG4_RAT_McLaughlin_2012', # pdz\n",
    "    'GAL4_YEAST_Shendure2015-SEL_C_40h':'GAL4_YEAST_Kitzman_2015',\n",
    "    'HSP82_YEAST_Bolon2016-selection_coefficient': 'HSP82_YEAST_Mishra_2016',\n",
    "    'KKA2_KLEPN_Mikkelsen2014-Kan18_avg':'KKA2_KLEPN_Melnikov_2014',\n",
    "    'RL401_YEAST_Bolon2013-selection_coefficient':'RL40A_YEAST_Roscoe_2013',\n",
    "    'RL401_YEAST_Bolon2014-react_rel':'RL40A_YEAST_Roscoe_2014',\n",
    "    'YAP1_HUMAN_Fields2012-singles-linear':'YAP1_HUMAN_Araya_2012'\n",
    "    \n",
    "    \n",
    "    \n",
    "}\n",
    "\n",
    "    # 'BRCA1_HUMAN_Fields2015-e3': ?\n",
    "    # 'GFP_AEQVI_Sarkisyan2016': 'GFP_AEQVI_Sarkisyan_2016'\n",
    "    # 'MTH3_HAEAESTABILIZED_Tawfik2015-Wrel_G17_filtered': 'MTH3_HAEAE_RockahShmuel_2015'\n",
    "    #''PABP_YEAST_Fields2013-linear':'PABP_YEAST_Melamed_2013'\n",
    "    # 'POLG_HCVJF_Sun2014-fitness':'POLG_HCVJF_Qi_2014'\n",
    "    # 'UBE4B_MOUSE_Klevit2013-nscor_log2_ratio':'UBE4B_MOUSE_Starita_2013'\n",
    "\n",
    "dataset_score = {}\n",
    "for label_name,proteingym_name in label_proteingym_map.items():\n",
    "    proteingym_ground_truth_file = f'/work/commons/proteingym/DMS_ProteinGym_substitutions/{proteingym_name}.csv'\n",
    "    \n",
    "    models = ['ESM1b','EVmutation','DeepSequence','UniRep_evotuned']\n",
    "    value_name = ['esm1b_t33_650M_UR50S','prediction_independent','evol_indices_ensemble','Unirep_score']\n",
    "    value_name = dict(zip(models,value_name))\n",
    "    models_dict = {}\n",
    "    for model in models:\n",
    "        proteingym_model_file = f'/work/commons/proteingym/zero_shot_substitutions_scores/{model}/{proteingym_name}.csv'\n",
    "        proteingym_model = pd.read_csv(proteingym_model_file)\n",
    "        models_dict[model] = proteingym_model\n",
    "\n",
    "    label_file = f'/nethome/zli3161/DATA-nash/combining-evolutionary-and-assay-labelled-data/data/learning-protein-fitness-from-evolutionary-and-assay-labelled-data/processed_data/{label_name}/data.csv'\n",
    "    import pandas as pd\n",
    "    proteingym_gt_file = pd.read_csv(proteingym_ground_truth_file)\n",
    "    label = pd.read_csv(label_file)\n",
    "    scores = dict(zip(models,[[] for i in range(len(models))]))\n",
    "    for i, row in label.iterrows():\n",
    "        \n",
    "        mutant_key = 'mutant'\n",
    "        # print(row[mutant_key])\n",
    "        if row[mutant_key] == 'WT':\n",
    "            continue\n",
    "\n",
    "        if label_name in ['DLG4_RAT_Ranganathan2012-CRIPT'] and row[mutant_key] not in proteingym_gt_file[mutant_key].values:\n",
    "            print(row[mutant_key])\n",
    "            continue\n",
    "        assert row[mutant_key] in proteingym_gt_file[mutant_key].values\n",
    "        idx = proteingym_gt_file[proteingym_gt_file[mutant_key] == row[mutant_key]].index[0]\n",
    "        # check mutated sequence\n",
    "        assert row[mutant_key] in proteingym_gt_file[mutant_key][idx]\n",
    "        \n",
    "        for model in models:\n",
    "            # print(model)\n",
    "            proteingym_model = models_dict[model]\n",
    "            value = value_name[model]\n",
    "            if model is not 'UniRep_evotuned':\n",
    "                model_score = proteingym_model[proteingym_model[mutant_key] == row[mutant_key]][value]\n",
    "            else:\n",
    "                model_score = proteingym_model[proteingym_model['mutated_sequence'] == proteingym_gt_file['mutated_sequence'][idx]][value]\n",
    "            scores[model].append(model_score.values[0])\n",
    "    dataset_score[label_name] = scores"
   ]
  },
  {
   "cell_type": "code",
   "execution_count": 10,
   "metadata": {},
   "outputs": [
    {
     "data": {
      "text/plain": [
       "4807"
      ]
     },
     "execution_count": 10,
     "metadata": {},
     "output_type": "execute_result"
    }
   ],
   "source": [
    "dataset_score['BLAT_ECOLX_Ranganathan2015-2500']['ESM1b']"
   ]
  },
  {
   "cell_type": "code",
   "execution_count": 22,
   "metadata": {},
   "outputs": [],
   "source": [
    "import pandas as pd\n",
    "esm_result = pd.read_csv('/nethome/zli3161/DATA-nash/combining-evolutionary-and-assay-labelled-data/inference/BLAT_ECOLX_Ranganathan2015-2500/esm/global/pll_org.csv',index_col=0)"
   ]
  },
  {
   "cell_type": "code",
   "execution_count": 23,
   "metadata": {},
   "outputs": [],
   "source": [
    "esm_result['pll'] = dataset_score['BLAT_ECOLX_Ranganathan2015-2500']['ESM1b']"
   ]
  },
  {
   "cell_type": "code",
   "execution_count": 24,
   "metadata": {},
   "outputs": [],
   "source": [
    "# save csv\n",
    "esm_result.to_csv('/nethome/zli3161/DATA-nash/combining-evolutionary-and-assay-labelled-data/inference/BLAT_ECOLX_Ranganathan2015-2500/esm/global/pll.csv',index=True)"
   ]
  },
  {
   "cell_type": "code",
   "execution_count": 12,
   "metadata": {},
   "outputs": [
    {
     "data": {
      "text/plain": [
       "SpearmanrResult(correlation=0.9692026602547521, pvalue=0.0)"
      ]
     },
     "execution_count": 12,
     "metadata": {},
     "output_type": "execute_result"
    }
   ],
   "source": [
    "from scipy.stats import spearmanr\n",
    "spearmanr(dataset_score['BLAT_ECOLX_Ranganathan2015-2500']['ESM1b'],esm_result['pll'])"
   ]
  },
  {
   "cell_type": "code",
   "execution_count": 32,
   "metadata": {},
   "outputs": [
    {
     "data": {
      "text/plain": [
       "0.84107"
      ]
     },
     "execution_count": 32,
     "metadata": {},
     "output_type": "execute_result"
    }
   ],
   "source": [
    "pd.read_csv('/nethome/zli3161/DATA-nash/combining-evolutionary-and-assay-labelled-data/results/BLAT_ECOLX_Ranganathan2015-2500/results.csv').spearman.mean()"
   ]
  }
 ],
 "metadata": {
  "kernelspec": {
   "display_name": "collapse",
   "language": "python",
   "name": "python3"
  },
  "language_info": {
   "codemirror_mode": {
    "name": "ipython",
    "version": 3
   },
   "file_extension": ".py",
   "mimetype": "text/x-python",
   "name": "python",
   "nbconvert_exporter": "python",
   "pygments_lexer": "ipython3",
   "version": "3.7.12"
  }
 },
 "nbformat": 4,
 "nbformat_minor": 2
}
